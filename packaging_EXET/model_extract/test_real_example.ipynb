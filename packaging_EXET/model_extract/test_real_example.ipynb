{
 "cells": [
  {
   "cell_type": "code",
   "execution_count": null,
   "metadata": {},
   "outputs": [],
   "source": [
    "import os\n",
    "from datetime import datetime, timedelta\n",
    "import netCDF4\n",
    "\n",
    "# PATH_MODEL_FILE = '/ARCV/NWP/RAWD/MODL/GDPS/NE36/{YYYYMM}/{DD}/{HH}/ERLY/FCST/post/sfc.ft{STEP}.nc' # 현재 스텝은 000~030\n",
    "\n",
    "PATH_MODEL_FILE= 'D:\\packaging\\example_model_data\\sfc.ft{STEP}.nc' #스텝은 000~030\n",
    "\n",
    "# # 지점별 데이터 추출\n",
    "# def model_extract(modelDt, interval, maxHour, stnXyList, tmpPath) :\n",
    "#     rstData = {}\n",
    "#     for step in range(interval, maxHour+interval, interval) :  \n",
    "#         modelPath = PATH_MODEL_FILE.format(YYYYMM=modelDt.strftime('%Y%m'), DD=modelDt.strftime('%d'), HH=modelDt.strftime('%H'), STEP=str(step).zfill(3))\n",
    "#         #print(modelPath)\n",
    "#         if not os.path.exists(modelPath) :\n",
    "#             print(f'[ERROR] Not found {modelPath}')\n",
    "#             return None\n",
    "\n",
    "#         targetDt = modelDt + timedelta(hours=step)\n",
    "#         # 더미파일 만들기 : 2차원 넘파이 배열 랜덤으로 만들기.\n",
    "#         ncfile = netCDF4.Dataset(modelPath, 'r', format='netcdf4')\n",
    "#         precc = ncfile['precc'][0][:]\n",
    "#         precl = ncfile['precl'][0][:]\n",
    "\n",
    "#         for stnInfo in stnXyList :\n",
    "#             x = stnInfo['x']\n",
    "#             y = stnInfo['y']\n",
    "#             stn = stnInfo['stn']\n",
    "#             prec_tot = precc[y][x] + precl[y][x]\n",
    "#             pt = {\n",
    "#                 'stn' : stn,\n",
    "#                 'model_dt' : modelDt.strftime('%Y-%m-%d %H:%M:%S'),\n",
    "#                 'target_dt' : targetDt.strftime('%Y-%m-%d %H:%M:%S'),\n",
    "#                 'step' : step,\n",
    "#                 'prec' : prec_tot\n",
    "#             }\n",
    "#             #print(pt)\n",
    "#             #if pt['prec'] is None : continue\n",
    "#             #pt['prec'] = round(pt['prec'], 2)\n",
    "#             #if pt['prec'] == 0 : continue\n",
    "#             if stn not in rstData : \n",
    "#                 rstData[stn] = []\n",
    "#             prec_tot = round(prec_tot, 2)\n",
    "#             rstData[stn].append(prec_tot)\n",
    "\n",
    "#             #insertDatas.append(pt)\n",
    "#         ncfile.close()\n",
    "    \n",
    "#     return rstData\n",
    "    "
   ]
  }
 ],
 "metadata": {
  "kernelspec": {
   "display_name": "base",
   "language": "python",
   "name": "python3"
  },
  "language_info": {
   "name": "python",
   "version": "3.12.4"
  }
 },
 "nbformat": 4,
 "nbformat_minor": 2
}
