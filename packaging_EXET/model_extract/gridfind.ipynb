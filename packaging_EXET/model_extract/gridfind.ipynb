{
 "cells": [
  {
   "cell_type": "code",
   "execution_count": 4,
   "metadata": {},
   "outputs": [
    {
     "name": "stdout",
     "output_type": "stream",
     "text": [
      "Available arrays: ['lats', 'lons']\n",
      "Latitude shape: (1440, 2880)\n",
      "Longitude shape: (1440, 2880)\n"
     ]
    }
   ],
   "source": [
    "import numpy as np\n",
    "\n",
    "# 파일 경로\n",
    "modelGridNpzFile = r'D:\\packaging\\test\\DABA\\grid_latlon_gdps_ne36.npz'\n",
    "\n",
    "# npz 파일 로드\n",
    "gridLatlon = np.load(modelGridNpzFile, allow_pickle=True)\n",
    "\n",
    "# 포함된 배열 이름 확인\n",
    "print(\"Available arrays:\", gridLatlon.files)\n",
    "\n",
    "# 배열에 접근하여 shape 확인\n",
    "# 이 부분에서 'lat'와 'lon'은 실제 배열 이름으로 바꿔야 함\n",
    "lat_array = gridLatlon['lats']  # 실제 배열 이름\n",
    "lon_array = gridLatlon['lons']  # 실제 배열 이름\n",
    "\n",
    "print(f\"Latitude shape: {lat_array.shape}\")\n",
    "print(f\"Longitude shape: {lon_array.shape}\")"
   ]
  },
  {
   "cell_type": "code",
   "execution_count": null,
   "metadata": {},
   "outputs": [],
   "source": []
  },
  {
   "cell_type": "code",
   "execution_count": null,
   "metadata": {},
   "outputs": [],
   "source": []
  }
 ],
 "metadata": {
  "kernelspec": {
   "display_name": "base",
   "language": "python",
   "name": "python3"
  },
  "language_info": {
   "codemirror_mode": {
    "name": "ipython",
    "version": 3
   },
   "file_extension": ".py",
   "mimetype": "text/x-python",
   "name": "python",
   "nbconvert_exporter": "python",
   "pygments_lexer": "ipython3",
   "version": "3.12.4"
  }
 },
 "nbformat": 4,
 "nbformat_minor": 2
}
