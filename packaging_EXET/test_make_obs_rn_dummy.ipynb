{
 "cells": [
  {
   "cell_type": "code",
   "execution_count": 3,
   "metadata": {},
   "outputs": [],
   "source": [
    "#import sqlite3\n",
    "import sys\n",
    "import os\n",
    "from datetime import datetime, timedelta\n",
    "import argparse\n",
    "import importlib\n",
    "import pandas as pd\n",
    "import hashlib\n",
    "import random\n",
    "\n",
    "\n",
    "import _config as cfg\n",
    "\n",
    "# 모듈 임포트\n",
    "import stninfo_to_csv_run as stn\n",
    "import calc_ct_day_1021 as cal\n",
    "import _config as cfg"
   ]
  },
  {
   "cell_type": "code",
   "execution_count": 7,
   "metadata": {},
   "outputs": [],
   "source": [
    "ymd = '20240110'\n",
    "dt =datetime.strptime(ymd, '%Y%m%d')\n",
    "obscode = 'aws' # aws,asos,gts\n",
    "modelcode = 'gdps_ne36' #gdps_ne36, klfs_ne36\n",
    "\n",
    "strDt = dt.strftime('%Y-%m-%d')\n",
    "#obs_stn 파일\n",
    "txtFile = cfg.PATH_OBS_TXT.format(OBS=obscode, YYYY=ymd[0:4], YYYYMMDD=ymd)\n",
    "\n"
   ]
  },
  {
   "cell_type": "code",
   "execution_count": 8,
   "metadata": {},
   "outputs": [],
   "source": [
    "#stnid 가져오기\n",
    "obs_stn = cfg.PATH_OBS_STN.format(OBS=obscode, YYYY=strDt[0:4], YYYYMMDD=strDt)\n",
    "df = pd.read_csv(obs_stn)\n",
    "stn_ids = df['id'].tolist()"
   ]
  },
  {
   "cell_type": "code",
   "execution_count": 9,
   "metadata": {},
   "outputs": [],
   "source": [
    "# 더미 파일을 만들기 위한 함수\n",
    "def create_dummy_files(ymd, stn_ids, obscode): \n",
    "    \n",
    "    txtFile = cfg.PATH_OBS_TXT.format(OBS=obscode, YYYY=ymd[0:4], YYYYMMDD=ymd)\n",
    "        \n",
    "    # txtFile 경로에 파일 쓰기\n",
    "    with open(txtFile, 'w') as f:\n",
    "        for stn_id in stn_ids:\n",
    "            # stnId와 날짜 포맷 설정\n",
    "            stn_str = f\"{stn_id:>9}\"  # stnId를 9자리로 맞추되 앞부분은 공백으로\n",
    "            dt_str = f\" {ymd}\"  # 날짜를 9자리로 설정 (앞에 공백 포함)\n",
    "\n",
    "            # 랜덤 강수량 생성 (0.0 ~ 3.5 범위)\n",
    "            rainfall_values = [f\"{random.uniform(0.0, 3.5):.1f}\" for _ in range(24)]\n",
    "\n",
    "            # 강수량 데이터 한 줄 작성\n",
    "            line = stn_str + dt_str + ''.join([f\"{val:>9}\" for val in rainfall_values]) + \"\\n\"\n",
    "\n",
    "            # 파일에 기록\n",
    "            f.write(line)"
   ]
  },
  {
   "cell_type": "code",
   "execution_count": null,
   "metadata": {},
   "outputs": [],
   "source": [
    "create_dummy_files(ymd, stn_ids, obscode)"
   ]
  }
 ],
 "metadata": {
  "kernelspec": {
   "display_name": "base",
   "language": "python",
   "name": "python3"
  },
  "language_info": {
   "codemirror_mode": {
    "name": "ipython",
    "version": 3
   },
   "file_extension": ".py",
   "mimetype": "text/x-python",
   "name": "python",
   "nbconvert_exporter": "python",
   "pygments_lexer": "ipython3",
   "version": "3.12.4"
  }
 },
 "nbformat": 4,
 "nbformat_minor": 2
}
