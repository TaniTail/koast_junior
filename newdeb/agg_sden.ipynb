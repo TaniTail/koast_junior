{
 "cells": [
  {
   "cell_type": "code",
   "execution_count": 1,
   "metadata": {},
   "outputs": [
    {
     "name": "stdout",
     "output_type": "stream",
     "text": [
      "📌 선박 밀집도 데이터 통합 완료! ✅\n",
      "결과 파일: ship_density_aggregated_2023.csv\n"
     ]
    }
   ],
   "source": [
    "import pandas as pd\n",
    "import os\n",
    "from glob import glob\n",
    "\n",
    "# 📌 선박 밀집도 데이터 폴더 경로 설정\n",
    "ship_data_folder = \"sden_2023_lv3\"  # 폴더명 변경 가능\n",
    "\n",
    "# 📌 모든 CSV 파일 리스트 가져오기\n",
    "ship_files = sorted(glob(os.path.join(ship_data_folder, \"sden_2023*.csv\")))\n",
    "\n",
    "# 📌 데이터프레임 리스트\n",
    "ship_dataframes = []\n",
    "\n",
    "# 📌 모든 선박 밀집도 데이터 로드 및 통합\n",
    "for file_path in ship_files:\n",
    "    # 파일명에서 날짜/시간 정보 추출\n",
    "    filename = os.path.basename(file_path)  # 파일명만 추출\n",
    "    datetime_str = filename.split(\"_\")[1]  # 예: \"202301010100\"\n",
    "    datetime_parsed = pd.to_datetime(datetime_str, format=\"%Y%m%d%H%M\")  # 날짜 변환\n",
    "\n",
    "    # CSV 파일 로드 (쉼표 포함된 위경도 컬럼 처리)\n",
    "    df = pd.read_csv(file_path)\n",
    "\n",
    "    # 📌 컬럼명 표준화\n",
    "    df.rename(columns={\n",
    "        \"격자번호\": \"Grid_ID\",\n",
    "        \"위경도\": \"LatLon\",\n",
    "        \"교통량(척)\": \"Ship_Count\",\n",
    "        \"밀집도(%)\": \"Density\",\n",
    "        \"어선\": \"Fishing\",\n",
    "        \"여객선\": \"Passenger\",\n",
    "        \"화물선\": \"Cargo\",\n",
    "        \"유조선\": \"Tanker\",\n",
    "        \"예인선\": \"Tugboat\",\n",
    "        \"수상레저기구\": \"Leisure\",\n",
    "        \"기타선\": \"Other\"\n",
    "    }, inplace=True)\n",
    "\n",
    "    # 📌 위경도 분리 (쉼표 포함된 문자열에서 위도, 경도 분리)\n",
    "    df[[\"Latitude\", \"Longitude\"]] = df[\"LatLon\"].str.split(\", \", expand=True).astype(float)\n",
    "\n",
    "    # 📌 datetime 컬럼 추가\n",
    "    df[\"datetime\"] = datetime_parsed\n",
    "\n",
    "    # 📌 필요한 컬럼만 선택\n",
    "    required_columns = [\"Grid_ID\", \"Latitude\", \"Longitude\", \"datetime\", \"Ship_Count\", \"Density\", \n",
    "                        \"Fishing\", \"Passenger\", \"Cargo\", \"Tanker\", \"Tugboat\", \"Leisure\", \"Other\"]\n",
    "    df = df[required_columns]\n",
    "\n",
    "    # 📌 데이터프레임 리스트에 추가\n",
    "    ship_dataframes.append(df)\n",
    "\n",
    "# 📌 모든 데이터프레임을 하나로 병합\n",
    "ship_df = pd.concat(ship_dataframes, ignore_index=True)\n",
    "\n",
    "# 📌 Grid_ID 및 시간별 평균 선박 밀집도 계산\n",
    "ship_avg = ship_df.groupby([\"Grid_ID\", \"datetime\"]).agg(\n",
    "    avg_ship_density=(\"Density\", \"mean\"),\n",
    "    avg_ship_count=(\"Ship_Count\", \"mean\"),\n",
    "    avg_fishing=(\"Fishing\", \"mean\"),\n",
    "    avg_passenger=(\"Passenger\", \"mean\"),\n",
    "    avg_cargo=(\"Cargo\", \"mean\"),\n",
    "    avg_tanker=(\"Tanker\", \"mean\"),\n",
    "    avg_tugboat=(\"Tugboat\", \"mean\"),\n",
    "    avg_leisure=(\"Leisure\", \"mean\"),\n",
    "    avg_other=(\"Other\", \"mean\")\n",
    ").reset_index()\n",
    "\n",
    "# 📌 결과 저장\n",
    "output_path = \"ship_density_aggregated_2023.csv\"\n",
    "ship_avg.to_csv(output_path, index=False)\n",
    "\n",
    "print(\"📌 선박 밀집도 데이터 통합 완료! ✅\")\n",
    "print(f\"결과 파일: {output_path}\")\n"
   ]
  }
 ],
 "metadata": {
  "kernelspec": {
   "display_name": "sden",
   "language": "python",
   "name": "python3"
  },
  "language_info": {
   "codemirror_mode": {
    "name": "ipython",
    "version": 3
   },
   "file_extension": ".py",
   "mimetype": "text/x-python",
   "name": "python",
   "nbconvert_exporter": "python",
   "pygments_lexer": "ipython3",
   "version": "3.12.0"
  }
 },
 "nbformat": 4,
 "nbformat_minor": 2
}
