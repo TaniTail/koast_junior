{
 "cells": [
  {
   "cell_type": "markdown",
   "metadata": {},
   "source": [
    "# 2023 해류, 해안쓰레기, 선박밀집도"
   ]
  },
  {
   "cell_type": "code",
   "execution_count": 2,
   "metadata": {},
   "outputs": [],
   "source": [
    "\n",
    "import pandas as pd\n",
    "import numpy as np\n",
    "from scipy.spatial import cKDTree\n",
    "\n",
    "# 파일 경로 설정\n",
    "tidal_current_path = \"tidal_current_2023.csv\"\n",
    "marideb_timestep_path = \"marideb_timestep.csv\"\n",
    "grid_path = \"grid_latlon.csv\"\n",
    "debris_path = \"marideb_location.csv\"\n",
    "\n",
    "# 데이터 로드\n",
    "tidal_current_df = pd.read_csv(tidal_current_path)   # 해류 데이터\n",
    "marideb_timestep_df = pd.read_csv(marideb_timestep_path)  # 선박 밀집도 데이터\n",
    "deb_df = pd.read_csv(debris_path) #해안쓰레기 데이터\n",
    "grid_df = pd.read_csv(grid_path)   # 기존 격자 데이터\n"
   ]
  },
  {
   "cell_type": "code",
   "execution_count": 3,
   "metadata": {},
   "outputs": [
    {
     "name": "stdout",
     "output_type": "stream",
     "text": [
      "       Grid_ID  Latitude  Longitude\n",
      "0  GR3_G3B32_D    35.475    129.425\n",
      "1  GR3_G3B33_P    35.075    129.025\n",
      "2  GR3_G3B33_L    35.125    129.075\n",
      "3  GR3_F4H23_E    34.725    127.725\n",
      "4  GR3_G3E12_S    34.825    128.425\n"
     ]
    }
   ],
   "source": [
    "print(grid_df.head())  # Grid_ID, Latitude, Longitude 존재 확인\n"
   ]
  },
  {
   "cell_type": "code",
   "execution_count": 4,
   "metadata": {},
   "outputs": [],
   "source": [
    "# 기존 격자의 위경도 좌표 추출\n",
    "grid_points = grid_df[[\"Latitude\", \"Longitude\"]].values\n",
    "\n",
    "# 쓰레기 데이터의 위경도 좌표\n",
    "deb_points = deb_df[[\"위도\", \"경도\"]].values\n",
    "\n",
    "tree = cKDTree(grid_points)\n",
    "_, indices = tree.query(deb_points)\n",
    "\n",
    "\n",
    "deb_df[\"Grid_ID\"] = grid_df.iloc[indices][\"Grid_ID\"].values\n"
   ]
  },
  {
   "cell_type": "code",
   "execution_count": 5,
   "metadata": {},
   "outputs": [],
   "source": [
    "# 기존 격자의 위경도 좌표 추출\n",
    "grid_points = grid_df[[\"Latitude\", \"Longitude\"]].values\n",
    "\n",
    "# 해류 데이터의 위경도 좌표\n",
    "tidal_points = tidal_current_df[[\"pre_lat\", \"pre_lon\"]].values\n",
    "\n",
    "\n",
    "# 최근접 격자 찾기 (cKDTree 사용)\n",
    "tree = cKDTree(grid_points)\n",
    "_, indices = tree.query(tidal_points)\n",
    "\n",
    "\n",
    "# 해류 데이터에 매핑된 격자 정보 추가\n",
    "tidal_current_df[\"Grid_ID\"] = grid_df.iloc[indices][\"Grid_ID\"].values"
   ]
  },
  {
   "cell_type": "code",
   "execution_count": 6,
   "metadata": {},
   "outputs": [],
   "source": [
    "# 격자별 평균 해류 속도 및 방향 계산\n",
    "tidal_grid = tidal_current_df.groupby(\"Grid_ID\").agg(\n",
    "    avg_speed=(\"current_speed\", \"mean\"),\n",
    "    avg_dir=(\"current_dir\", \"mean\")\n",
    ").reset_index()\n",
    "\n",
    "# 기존 격자와 병합하여 저장\n",
    "grid_with_tidal = grid_df.merge(tidal_grid, on=\"Grid_ID\", how=\"left\")\n",
    "\n",
    "# 결측값 처리 (보간 또는 평균 대체)\n",
    "grid_with_tidal[\"avg_speed\"] = grid_with_tidal[\"avg_speed\"].fillna(0)  # 속도가 없는 곳은 0\n",
    "grid_with_tidal[\"avg_dir\"] = grid_with_tidal[\"avg_dir\"].fillna(0)  # 방향 없는 곳도 0\n"
   ]
  },
  {
   "cell_type": "code",
   "execution_count": 7,
   "metadata": {},
   "outputs": [
    {
     "name": "stdout",
     "output_type": "stream",
     "text": [
      "격자별 평균 해류 데이터가 저장되었습니다: grid_with_avg_tidal_2023.csv\n"
     ]
    }
   ],
   "source": [
    "# 결과 데이터 저장\n",
    "output_path = \"grid_with_avg_tidal_2023.csv\"\n",
    "grid_with_tidal.to_csv(output_path, index=False)\n",
    "\n",
    "print(f\"격자별 평균 해류 데이터가 저장되었습니다: {output_path}\")\n"
   ]
  },
  {
   "cell_type": "code",
   "execution_count": 8,
   "metadata": {},
   "outputs": [
    {
     "name": "stdout",
     "output_type": "stream",
     "text": [
      "필요한 컬럼만 저장된 파일: grid_with_avg_tidal_filtered_2023.csv\n"
     ]
    }
   ],
   "source": [
    "# 필요한 컬럼만 선택\n",
    "grid_with_tidal_filtered = grid_with_tidal[[\"Grid_ID\", \"Latitude\", \"Longitude\", \"avg_speed\", \"avg_dir\"]]\n",
    "\n",
    "# 결과 저장\n",
    "output_filtered_path = \"grid_with_avg_tidal_filtered_2023.csv\"\n",
    "grid_with_tidal_filtered.to_csv(output_filtered_path, index=False)\n",
    "\n",
    "print(f\"필요한 컬럼만 저장된 파일: {output_filtered_path}\")\n"
   ]
  },
  {
   "cell_type": "code",
   "execution_count": 9,
   "metadata": {},
   "outputs": [
    {
     "name": "stdout",
     "output_type": "stream",
     "text": [
      "deb_df 데이터가 'deb_df_output.csv'로 저장되었습니다.\n"
     ]
    }
   ],
   "source": [
    "# deb_df 데이터프레임을 CSV 파일로 저장\n",
    "deb_df.to_csv(\"deb_df_output_2023.csv\", index=False)\n",
    "\n",
    "print(\"deb_df 데이터가 'deb_df_output.csv'로 저장되었습니다.\")\n"
   ]
  },
  {
   "cell_type": "code",
   "execution_count": null,
   "metadata": {},
   "outputs": [],
   "source": []
  },
  {
   "cell_type": "code",
   "execution_count": 10,
   "metadata": {},
   "outputs": [
    {
     "name": "stdout",
     "output_type": "stream",
     "text": [
      "   current_dir    pre_lon  current_speed   pre_lat             datetime\n",
      "0          147  125.03305           43.0  33.04701  2023-01-01 00:00:00\n",
      "1          146  125.02657           44.0  33.19098  2023-01-01 00:00:00\n",
      "2          147  125.02003           45.0  33.33496  2023-01-01 00:00:00\n",
      "3          147  125.01345           43.0  33.47892  2023-01-01 00:00:00\n",
      "4          147  125.00682           42.0  33.62288  2023-01-01 00:00:00\n",
      "       Grid_ID  Latitude  Longitude\n",
      "0  GR3_G3B32_D    35.475    129.425\n",
      "1  GR3_G3B33_P    35.075    129.025\n",
      "2  GR3_G3B33_L    35.125    129.075\n",
      "3  GR3_F4H23_E    34.725    127.725\n",
      "4  GR3_G3E12_S    34.825    128.425\n"
     ]
    }
   ],
   "source": [
    "import pandas as pd\n",
    "from scipy.spatial import cKDTree\n",
    "\n",
    "# 파일 경로 설정\n",
    "tidal_path = \"tidal_current_2023.csv\"  # 해류 데이터 (위경도, 속도, 방향, 시간 포함)\n",
    "grid_path = \"grid_latlon.csv\"  # 기존 그리드 데이터 (Grid_ID, 위경도)\n",
    "\n",
    "# 데이터 로드\n",
    "tidal_df = pd.read_csv(tidal_path)  # 해류 데이터\n",
    "grid_df = pd.read_csv(grid_path)  # 격자 데이터\n",
    "\n",
    "# 데이터 확인\n",
    "print(tidal_df.head())\n",
    "print(grid_df.head())\n"
   ]
  },
  {
   "cell_type": "code",
   "execution_count": 11,
   "metadata": {},
   "outputs": [],
   "source": [
    "# 기존 격자의 위경도 좌표 추출\n",
    "grid_points = grid_df[[\"Latitude\", \"Longitude\"]].values\n",
    "\n",
    "# 해류 데이터의 위경도 좌표\n",
    "tidal_points = tidal_df[[\"pre_lat\", \"pre_lon\"]].values\n",
    "\n",
    "# 최근접 격자 찾기\n",
    "tree = cKDTree(grid_points)\n",
    "_, indices = tree.query(tidal_points)\n",
    "\n",
    "# 해류 데이터에 매핑된 Grid_ID 추가\n",
    "tidal_df[\"Grid_ID\"] = grid_df.iloc[indices][\"Grid_ID\"].values\n"
   ]
  },
  {
   "cell_type": "code",
   "execution_count": 12,
   "metadata": {},
   "outputs": [
    {
     "name": "stdout",
     "output_type": "stream",
     "text": [
      "       Grid_ID            datetime  avg_speed  avg_dir\n",
      "0  GR3_F2J31_N 2023-01-01 00:00:00       63.0    307.0\n",
      "1  GR3_F2J31_N 2023-01-01 01:00:00       82.0    294.0\n",
      "2  GR3_F2J31_N 2023-01-01 02:00:00       84.0    284.0\n",
      "3  GR3_F2J31_N 2023-01-01 03:00:00       67.0    271.0\n",
      "4  GR3_F2J31_N 2023-01-01 04:00:00       41.0    243.0\n"
     ]
    }
   ],
   "source": [
    "# 시간 컬럼을 datetime 타입으로 변환\n",
    "tidal_df[\"datetime\"] = pd.to_datetime(tidal_df[\"datetime\"])\n",
    "\n",
    "# Grid_ID 및 시간별 평균 해류 속도 및 방향 계산\n",
    "grid_tidal_hourly = tidal_df.groupby([\"Grid_ID\", \"datetime\"]).agg(\n",
    "    avg_speed=(\"current_speed\", \"mean\"),\n",
    "    avg_dir=(\"current_dir\", \"mean\")\n",
    ").reset_index()\n",
    "\n",
    "# 결과 확인\n",
    "print(grid_tidal_hourly.head())\n"
   ]
  },
  {
   "cell_type": "code",
   "execution_count": 13,
   "metadata": {},
   "outputs": [
    {
     "name": "stdout",
     "output_type": "stream",
     "text": [
      "그리드별 시간당 해류 데이터가 저장되었습니다: grid_tidal_hourly_2023.csv\n"
     ]
    }
   ],
   "source": [
    "# CSV 파일로 저장\n",
    "output_path = \"grid_tidal_hourly_2023.csv\"\n",
    "grid_tidal_hourly.to_csv(output_path, index=False)\n",
    "\n",
    "print(f\"그리드별 시간당 해류 데이터가 저장되었습니다: {output_path}\")\n"
   ]
  },
  {
   "cell_type": "code",
   "execution_count": null,
   "metadata": {},
   "outputs": [],
   "source": []
  }
 ],
 "metadata": {
  "kernelspec": {
   "display_name": "sden",
   "language": "python",
   "name": "python3"
  },
  "language_info": {
   "codemirror_mode": {
    "name": "ipython",
    "version": 3
   },
   "file_extension": ".py",
   "mimetype": "text/x-python",
   "name": "python",
   "nbconvert_exporter": "python",
   "pygments_lexer": "ipython3",
   "version": "3.12.0"
  }
 },
 "nbformat": 4,
 "nbformat_minor": 2
}
