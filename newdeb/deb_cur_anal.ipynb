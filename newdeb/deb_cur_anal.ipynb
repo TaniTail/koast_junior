{
 "cells": [
  {
   "cell_type": "code",
   "execution_count": 1,
   "metadata": {},
   "outputs": [
    {
     "name": "stdout",
     "output_type": "stream",
     "text": [
      "       Grid_ID  Latitude  Longitude  avg_speed     avg_dir\n",
      "0  GR3_G3B32_D    35.475    129.425   0.000000    0.000000\n",
      "1  GR3_G3B33_P    35.075    129.025   0.000000    0.000000\n",
      "2  GR3_G3B33_L    35.125    129.075   0.000000    0.000000\n",
      "3  GR3_F4H23_E    34.725    127.725   0.000000    0.000000\n",
      "4  GR3_G3E12_S    34.825    128.425   9.949454  154.587546\n",
      "     정점명    개수  무게_kg         위도          경도  군집      단위무게      Grid_ID\n",
      "0  강화여차리   511   25.1  37.620648  126.389360   2  0.049119  GR3_F2K14_M\n",
      "1  안산말부흥    50    0.5  37.221114  126.572177   2  0.010000  GR3_F2K43_A\n",
      "2  태안백리포  1359   49.8  36.814035  126.159965   2  0.036645  GR3_F2O11_R\n",
      "3  보령석대도   138   50.1  36.247135  126.546496   2  0.363043  GR3_F2O43_F\n",
      "4   부안변산    97   39.0  35.689892  126.549436   2  0.402062  GR3_F4C23_A\n"
     ]
    }
   ],
   "source": [
    "import pandas as pd\n",
    "\n",
    "# 파일 경로 설정\n",
    "tidal_path = \"grid_with_avg_tidal_filtered.csv\"\n",
    "debris_path = \"deb_df_output.csv\"\n",
    "\n",
    "# 데이터 로드\n",
    "tidal_df = pd.read_csv(tidal_path)  # 연평균 해류 데이터\n",
    "debris_df = pd.read_csv(debris_path)  # 해안쓰레기 데이터\n",
    "\n",
    "# 데이터 확인\n",
    "print(tidal_df.head())\n",
    "print(debris_df.head())\n"
   ]
  },
  {
   "cell_type": "code",
   "execution_count": 4,
   "metadata": {},
   "outputs": [
    {
     "name": "stdout",
     "output_type": "stream",
     "text": [
      "       Grid_ID  Latitude  Longitude  avg_speed     avg_dir    정점명    개수  \\\n",
      "0  GR3_G3B32_D    35.475    129.425   0.000000    0.000000  울산대왕암  2280   \n",
      "1  GR3_G3E12_S    34.825    128.425   9.949454  154.587546  통영망일봉  1215   \n",
      "2  GR3_G3B33_Q    35.075    129.075   0.000000    0.000000  부산해양대   800   \n",
      "3  GR3_G1J13_R    37.575    129.125   0.000000    0.000000   동해노봉   823   \n",
      "4  GR3_G3A44_Q    35.075    128.825   0.000000    0.000000  부산가덕도  3383   \n",
      "\n",
      "   무게_kg         위도          경도  군집      단위무게  \n",
      "0   27.7  35.496946  129.433058   0  0.012149  \n",
      "1   16.0  34.847961  128.437195   2  0.013169  \n",
      "2   22.9  35.070891  129.074520   2  0.028625  \n",
      "3   18.3  37.572966  129.083423   2  0.022236  \n",
      "4   52.1  35.067155  128.846194   0  0.015401  \n"
     ]
    }
   ],
   "source": [
    "# 두 데이터프레임을 Grid_ID 기준으로 병합\n",
    "merged_df = pd.merge(tidal_df, debris_df, on=\"Grid_ID\", how=\"inner\")  # 공통 Grid_ID만 유지\n",
    "\n",
    "# 데이터 확인\n",
    "print(merged_df.head())\n"
   ]
  },
  {
   "cell_type": "code",
   "execution_count": 6,
   "metadata": {},
   "outputs": [
    {
     "name": "stdout",
     "output_type": "stream",
     "text": [
      "해류 방향와 해안쓰레기 개수 간의 상관계수:\n",
      "Latitude     0.039131\n",
      "Longitude   -0.180131\n",
      "avg_speed    0.704613\n",
      "avg_dir      1.000000\n",
      "개수          -0.028863\n",
      "무게_kg        0.026358\n",
      "위도           0.042196\n",
      "경도          -0.181512\n",
      "군집           0.030996\n",
      "단위무게         0.016905\n",
      "Name: avg_dir, dtype: float64\n"
     ]
    }
   ],
   "source": [
    "# 수치형 데이터만 선택\n",
    "numeric_cols = merged_df.select_dtypes(include=[\"number\"])  # 숫자 데이터만 선택\n",
    "\n",
    "# 상관계수 계산 (피어슨 상관계수)\n",
    "correlation_matrix = numeric_cols.corr()\n",
    "\n",
    "# avg_speed와 해안쓰레기 간의 상관계수 출력\n",
    "print(\"해류 방향와 해안쓰레기 개수 간의 상관계수:\")\n",
    "print(correlation_matrix.loc[\"avg_dir\"])\n"
   ]
  },
  {
   "cell_type": "markdown",
   "metadata": {},
   "source": [
    "1년 평균 해류와는 별 관계가 없는 것을 알 수 있다..."
   ]
  },
  {
   "cell_type": "code",
   "execution_count": null,
   "metadata": {},
   "outputs": [],
   "source": []
  }
 ],
 "metadata": {
  "kernelspec": {
   "display_name": "sden",
   "language": "python",
   "name": "python3"
  },
  "language_info": {
   "codemirror_mode": {
    "name": "ipython",
    "version": 3
   },
   "file_extension": ".py",
   "mimetype": "text/x-python",
   "name": "python",
   "nbconvert_exporter": "python",
   "pygments_lexer": "ipython3",
   "version": "3.12.0"
  }
 },
 "nbformat": 4,
 "nbformat_minor": 2
}
