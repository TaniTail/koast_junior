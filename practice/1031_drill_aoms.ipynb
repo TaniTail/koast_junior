{
 "cells": [
  {
   "cell_type": "code",
   "execution_count": 1,
   "metadata": {},
   "outputs": [],
   "source": [
    "import pandas as pd\n",
    "import numpy as np\n",
    "import matplotlib\n",
    "import matplotlib.pyplot as plt\n",
    "import seaborn as sns\n"
   ]
  },
  {
   "cell_type": "code",
   "execution_count": 2,
   "metadata": {},
   "outputs": [],
   "source": [
    "aoms_2022 = pd.read_csv('./data/AOMS/2022/aoms_2022.csv',low_memory=False )"
   ]
  },
  {
   "cell_type": "code",
   "execution_count": 3,
   "metadata": {},
   "outputs": [],
   "source": [
    "aoms_2023 = pd.read_csv('./data/AOMS/2023/aoms_2023.csv',low_memory=False )"
   ]
  },
  {
   "cell_type": "code",
   "execution_count": 4,
   "metadata": {},
   "outputs": [
    {
     "name": "stdout",
     "output_type": "stream",
     "text": [
      "<class 'pandas.core.frame.DataFrame'>\n",
      "RangeIndex: 9852716 entries, 0 to 9852715\n",
      "Data columns (total 25 columns):\n",
      " #   Column             Dtype  \n",
      "---  ------             -----  \n",
      " 0   TM_STMP            object \n",
      " 1   MS_DATE            int64  \n",
      " 2   MSG_TYPE           object \n",
      " 3   MS_IO              object \n",
      " 4   FLIGHT_NUM         object \n",
      " 5   MS_SID             int64  \n",
      " 6   MS_AIRP            object \n",
      " 7   MS_AIRP_FN         object \n",
      " 8   MS_STIME           int64  \n",
      " 9   MS_CTIME           int64  \n",
      " 10  MS_LINE            object \n",
      " 11  MS_ATIME           float64\n",
      " 12  MS_DELAY           int64  \n",
      " 13  MS_CAUSE           object \n",
      " 14  MS_DECITY          float64\n",
      " 15  MS_PAX             object \n",
      " 16  MG_REASON_AIRPORT  object \n",
      " 17  MS_CODE            object \n",
      " 18  MG_USECODE         int64  \n",
      " 19  MS_PURPO           int64  \n",
      " 20  REF1               object \n",
      " 21  REF2               float64\n",
      " 22  REF3               float64\n",
      " 23  REF4               float64\n",
      " 24  REF5               float64\n",
      "dtypes: float64(6), int64(7), object(12)\n",
      "memory usage: 1.8+ GB\n"
     ]
    },
    {
     "data": {
      "text/html": [
       "<div>\n",
       "<style scoped>\n",
       "    .dataframe tbody tr th:only-of-type {\n",
       "        vertical-align: middle;\n",
       "    }\n",
       "\n",
       "    .dataframe tbody tr th {\n",
       "        vertical-align: top;\n",
       "    }\n",
       "\n",
       "    .dataframe thead th {\n",
       "        text-align: right;\n",
       "    }\n",
       "</style>\n",
       "<table border=\"1\" class=\"dataframe\">\n",
       "  <thead>\n",
       "    <tr style=\"text-align: right;\">\n",
       "      <th></th>\n",
       "      <th>TM_STMP</th>\n",
       "      <th>MS_DATE</th>\n",
       "      <th>MSG_TYPE</th>\n",
       "      <th>MS_IO</th>\n",
       "      <th>FLIGHT_NUM</th>\n",
       "      <th>MS_SID</th>\n",
       "      <th>MS_AIRP</th>\n",
       "      <th>MS_AIRP_FN</th>\n",
       "      <th>MS_STIME</th>\n",
       "      <th>MS_CTIME</th>\n",
       "      <th>...</th>\n",
       "      <th>MS_PAX</th>\n",
       "      <th>MG_REASON_AIRPORT</th>\n",
       "      <th>MS_CODE</th>\n",
       "      <th>MG_USECODE</th>\n",
       "      <th>MS_PURPO</th>\n",
       "      <th>REF1</th>\n",
       "      <th>REF2</th>\n",
       "      <th>REF3</th>\n",
       "      <th>REF4</th>\n",
       "      <th>REF5</th>\n",
       "    </tr>\n",
       "  </thead>\n",
       "  <tbody>\n",
       "    <tr>\n",
       "      <th>0</th>\n",
       "      <td>23/01/02 00:32:18.120000000</td>\n",
       "      <td>20230108</td>\n",
       "      <td>I</td>\n",
       "      <td>A</td>\n",
       "      <td>DL7687</td>\n",
       "      <td>0</td>\n",
       "      <td>NGO</td>\n",
       "      <td>NAGOYA</td>\n",
       "      <td>1545</td>\n",
       "      <td>1545</td>\n",
       "      <td>...</td>\n",
       "      <td>Y</td>\n",
       "      <td>NaN</td>\n",
       "      <td>SL</td>\n",
       "      <td>0</td>\n",
       "      <td>0</td>\n",
       "      <td>DL</td>\n",
       "      <td>NaN</td>\n",
       "      <td>NaN</td>\n",
       "      <td>NaN</td>\n",
       "      <td>NaN</td>\n",
       "    </tr>\n",
       "    <tr>\n",
       "      <th>1</th>\n",
       "      <td>23/01/02 00:32:18.146000000</td>\n",
       "      <td>20230108</td>\n",
       "      <td>I</td>\n",
       "      <td>A</td>\n",
       "      <td>JL5219</td>\n",
       "      <td>0</td>\n",
       "      <td>NGO</td>\n",
       "      <td>NAGOYA</td>\n",
       "      <td>1545</td>\n",
       "      <td>1545</td>\n",
       "      <td>...</td>\n",
       "      <td>Y</td>\n",
       "      <td>NaN</td>\n",
       "      <td>SL</td>\n",
       "      <td>0</td>\n",
       "      <td>0</td>\n",
       "      <td>JL</td>\n",
       "      <td>NaN</td>\n",
       "      <td>NaN</td>\n",
       "      <td>NaN</td>\n",
       "      <td>NaN</td>\n",
       "    </tr>\n",
       "    <tr>\n",
       "      <th>2</th>\n",
       "      <td>23/01/02 00:32:18.169000000</td>\n",
       "      <td>20230108</td>\n",
       "      <td>I</td>\n",
       "      <td>A</td>\n",
       "      <td>KL4257</td>\n",
       "      <td>0</td>\n",
       "      <td>NGO</td>\n",
       "      <td>NAGOYA</td>\n",
       "      <td>1545</td>\n",
       "      <td>1545</td>\n",
       "      <td>...</td>\n",
       "      <td>Y</td>\n",
       "      <td>NaN</td>\n",
       "      <td>SL</td>\n",
       "      <td>0</td>\n",
       "      <td>0</td>\n",
       "      <td>KL</td>\n",
       "      <td>NaN</td>\n",
       "      <td>NaN</td>\n",
       "      <td>NaN</td>\n",
       "      <td>NaN</td>\n",
       "    </tr>\n",
       "    <tr>\n",
       "      <th>3</th>\n",
       "      <td>23/01/02 00:32:18.195000000</td>\n",
       "      <td>20230108</td>\n",
       "      <td>I</td>\n",
       "      <td>A</td>\n",
       "      <td>OM6717</td>\n",
       "      <td>0</td>\n",
       "      <td>NGO</td>\n",
       "      <td>NAGOYA</td>\n",
       "      <td>1545</td>\n",
       "      <td>1545</td>\n",
       "      <td>...</td>\n",
       "      <td>Y</td>\n",
       "      <td>NaN</td>\n",
       "      <td>SL</td>\n",
       "      <td>0</td>\n",
       "      <td>0</td>\n",
       "      <td>OM</td>\n",
       "      <td>NaN</td>\n",
       "      <td>NaN</td>\n",
       "      <td>NaN</td>\n",
       "      <td>NaN</td>\n",
       "    </tr>\n",
       "    <tr>\n",
       "      <th>4</th>\n",
       "      <td>23/01/02 00:32:18.225000000</td>\n",
       "      <td>20230108</td>\n",
       "      <td>I</td>\n",
       "      <td>A</td>\n",
       "      <td>DL7904</td>\n",
       "      <td>0</td>\n",
       "      <td>CTS</td>\n",
       "      <td>SAPPORO</td>\n",
       "      <td>1715</td>\n",
       "      <td>1715</td>\n",
       "      <td>...</td>\n",
       "      <td>Y</td>\n",
       "      <td>NaN</td>\n",
       "      <td>SL</td>\n",
       "      <td>0</td>\n",
       "      <td>0</td>\n",
       "      <td>DL</td>\n",
       "      <td>NaN</td>\n",
       "      <td>NaN</td>\n",
       "      <td>NaN</td>\n",
       "      <td>NaN</td>\n",
       "    </tr>\n",
       "  </tbody>\n",
       "</table>\n",
       "<p>5 rows × 25 columns</p>\n",
       "</div>"
      ],
      "text/plain": [
       "                       TM_STMP   MS_DATE MSG_TYPE MS_IO FLIGHT_NUM  MS_SID  \\\n",
       "0  23/01/02 00:32:18.120000000  20230108        I     A     DL7687       0   \n",
       "1  23/01/02 00:32:18.146000000  20230108        I     A     JL5219       0   \n",
       "2  23/01/02 00:32:18.169000000  20230108        I     A     KL4257       0   \n",
       "3  23/01/02 00:32:18.195000000  20230108        I     A     OM6717       0   \n",
       "4  23/01/02 00:32:18.225000000  20230108        I     A     DL7904       0   \n",
       "\n",
       "  MS_AIRP MS_AIRP_FN  MS_STIME  MS_CTIME  ... MS_PAX  MG_REASON_AIRPORT  \\\n",
       "0     NGO     NAGOYA      1545      1545  ...      Y                NaN   \n",
       "1     NGO     NAGOYA      1545      1545  ...      Y                NaN   \n",
       "2     NGO     NAGOYA      1545      1545  ...      Y                NaN   \n",
       "3     NGO     NAGOYA      1545      1545  ...      Y                NaN   \n",
       "4     CTS    SAPPORO      1715      1715  ...      Y                NaN   \n",
       "\n",
       "   MS_CODE MG_USECODE  MS_PURPO REF1 REF2 REF3  REF4  REF5  \n",
       "0       SL          0         0   DL  NaN  NaN   NaN   NaN  \n",
       "1       SL          0         0   JL  NaN  NaN   NaN   NaN  \n",
       "2       SL          0         0   KL  NaN  NaN   NaN   NaN  \n",
       "3       SL          0         0   OM  NaN  NaN   NaN   NaN  \n",
       "4       SL          0         0   DL  NaN  NaN   NaN   NaN  \n",
       "\n",
       "[5 rows x 25 columns]"
      ]
     },
     "execution_count": 4,
     "metadata": {},
     "output_type": "execute_result"
    }
   ],
   "source": [
    "aoms_2023.info()\n",
    "aoms_2023.head()"
   ]
  },
  {
   "cell_type": "code",
   "execution_count": 5,
   "metadata": {},
   "outputs": [
    {
     "name": "stdout",
     "output_type": "stream",
     "text": [
      "데이터프레임은 'TM_STMP' 열을 기준으로 정렬되어 있지 않습니다.\n"
     ]
    }
   ],
   "source": [
    "\n",
    "sorted_df = aoms_2023.sort_values(by='TM_STMP')\n",
    "is_sorted = aoms_2023.equals(sorted_df)\n",
    "if is_sorted:\n",
    "    print(\"데이터프레임은 'TM_STMP' 열을 기준으로 정렬되어 있습니다.\")\n",
    "else:\n",
    "    print(\"데이터프레임은 'TM_STMP' 열을 기준으로 정렬되어 있지 않습니다.\")\n"
   ]
  },
  {
   "cell_type": "code",
   "execution_count": 6,
   "metadata": {},
   "outputs": [],
   "source": [
    "# TM_STMP를 datetime으로 변환하고 TM_STMP으로 Sort\n",
    "aoms_2023['TM_STMP'] = pd.to_datetime(aoms_2023['TM_STMP'], format='%y/%m/%d %H:%M:%S.%f')\n",
    "aoms_2023 = aoms_2023.sort_values(['TM_STMP'])"
   ]
  },
  {
   "cell_type": "code",
   "execution_count": 7,
   "metadata": {},
   "outputs": [
    {
     "data": {
      "text/plain": [
       "21554     NaN\n",
       "21555     NaN\n",
       "21556     NaN\n",
       "21557     NaN\n",
       "21558     NaN\n",
       "           ..\n",
       "9600848   NaN\n",
       "9600849   NaN\n",
       "9600850   NaN\n",
       "9600851   NaN\n",
       "9600852   NaN\n",
       "Name: MS_DECITY, Length: 9852716, dtype: float64"
      ]
     },
     "execution_count": 7,
     "metadata": {},
     "output_type": "execute_result"
    }
   ],
   "source": [
    "\n",
    "pd.set_option('display.max_columns', None) \n",
    "# filtered = aoms_2023[(aoms_2023['MS_DATE'] == 20230107) & (aoms_2023['FLIGHT_NUM'] == 'TW175')]\n",
    "filtered = aoms_2023[aoms_2023['FLIGHT_NUM'] == 'TW175']\n",
    "# display(filtered)\n",
    "filtered['MS_DATE'].unique() # 운항편명 Flight identifier이라는 건... (여러 스케쥴이 보이니까) 한번 뜨는 거에 대한 건 아닌듯\n",
    "a = aoms_2023['FLIGHT_NUM'].unique()\n",
    "np.set_printoptions(threshold=np.inf)\n",
    "a\n",
    "aoms_2023['MS_DECITY']"
   ]
  },
  {
   "cell_type": "code",
   "execution_count": 8,
   "metadata": {},
   "outputs": [],
   "source": [
    "#['TM_STMP']열 외에 다른 모든 값이 중복인 행들을 삭제\n",
    "aoms_2023 = aoms_2023.drop_duplicates(subset=aoms_2023.columns.difference(['TM_STMP']))"
   ]
  },
  {
   "cell_type": "code",
   "execution_count": 9,
   "metadata": {},
   "outputs": [],
   "source": [
    "# \n",
    "# df = df.groupby(['FLT_PK']).last()\n",
    "\n",
    "aoms_2023 = aoms_2023.loc[aoms_2023['MS_LINE'] == 'D']    # 국내선만\n",
    "aoms_2023 = aoms_2023.loc[aoms_2023['MS_AIRP'].notna()]   # 항공사 표기가 없는 경우 제외\n",
    "aoms_2023 = aoms_2023.loc[aoms_2023['MSG_TYPE'] == 'U']    # D와 I 제거\n",
    "\n",
    "\n",
    "aoms_2023 = aoms_2023.loc[(aoms_2023['MS_DELAY'] != 2)] # 결항 제거\n",
    "aoms_2023 = aoms_2023.loc[(aoms_2023['MS_DELAY'] != 3)] # 회항 제거\n",
    "\n",
    "# 항공 통계와 동일한 공항, 항공사로 제한\n",
    "domestic = ['ICN', 'GMP', 'PUS', 'CJU', 'TAE', 'CJJ', 'KWJ', 'RSU', 'USN', 'WJU', 'HIN', 'KPO', 'YNY', 'KUV', 'MWX']\n",
    "airline = ['OZ', '7C', 'LJ', 'KE', 'TW', 'BX', 'RS', 'RF', '4V', 'ZE']\n",
    "aoms_2023 = aoms_2023.loc[(aoms_2023['MS_AIRP'].isin(domestic))] #MS_AIRP가 항공통계에 잡히는 공항인 것만\n",
    "\n",
    "# FLIGHT 넘버에 앞 두자리- 항공통계 잡는 항공사만\n",
    "aoms_2023['AIRLINE_PREFIX'] = aoms_2023['FLIGHT_NUM'].str[:2]\n",
    "aoms_2023 = aoms_2023.loc[(aoms_2023['AIRLINE_PREFIX'].isin(airline))] \n",
    "\n",
    "# 9월의 경우만 확인해봄\n",
    "a = aoms_2023.loc[aoms_2023['TM_STMP'].dt.month == 9]"
   ]
  },
  {
   "cell_type": "code",
   "execution_count": 10,
   "metadata": {},
   "outputs": [
    {
     "data": {
      "text/plain": [
       "AIRLINE_PREFIX\n",
       "KE    1550\n",
       "7C     116\n",
       "OZ      65\n",
       "LJ      45\n",
       "BX      15\n",
       "ZE      13\n",
       "RS      10\n",
       "TW       6\n",
       "dtype: int64"
      ]
     },
     "execution_count": 10,
     "metadata": {},
     "output_type": "execute_result"
    }
   ],
   "source": [
    "a.groupby(['AIRLINE_PREFIX']).size().sort_values(ascending=False)"
   ]
  },
  {
   "cell_type": "code",
   "execution_count": 11,
   "metadata": {},
   "outputs": [
    {
     "data": {
      "text/plain": [
       "MS_AIRP\n",
       "PUS    1238\n",
       "TAE     267\n",
       "GMP     222\n",
       "CJU      44\n",
       "ICN      43\n",
       "HIN       6\n",
       "dtype: int64"
      ]
     },
     "execution_count": 11,
     "metadata": {},
     "output_type": "execute_result"
    }
   ],
   "source": [
    "a.groupby(['MS_AIRP']).size().sort_values(ascending=False)"
   ]
  },
  {
   "cell_type": "code",
   "execution_count": 12,
   "metadata": {},
   "outputs": [
    {
     "name": "stdout",
     "output_type": "stream",
     "text": [
      "<class 'pandas.core.frame.DataFrame'>\n",
      "Index: 17409 entries, 20950 to 9698767\n",
      "Data columns (total 26 columns):\n",
      " #   Column             Non-Null Count  Dtype         \n",
      "---  ------             --------------  -----         \n",
      " 0   TM_STMP            17409 non-null  datetime64[ns]\n",
      " 1   MS_DATE            17409 non-null  int64         \n",
      " 2   MSG_TYPE           17409 non-null  object        \n",
      " 3   MS_IO              17409 non-null  object        \n",
      " 4   FLIGHT_NUM         17409 non-null  object        \n",
      " 5   MS_SID             17409 non-null  int64         \n",
      " 6   MS_AIRP            17409 non-null  object        \n",
      " 7   MS_AIRP_FN         17409 non-null  object        \n",
      " 8   MS_STIME           17409 non-null  int64         \n",
      " 9   MS_CTIME           17409 non-null  int64         \n",
      " 10  MS_LINE            17409 non-null  object        \n",
      " 11  MS_ATIME           4245 non-null   float64       \n",
      " 12  MS_DELAY           17409 non-null  int64         \n",
      " 13  MS_CAUSE           16361 non-null  object        \n",
      " 14  MS_DECITY          0 non-null      float64       \n",
      " 15  MS_PAX             17409 non-null  object        \n",
      " 16  MG_REASON_AIRPORT  1182 non-null   object        \n",
      " 17  MS_CODE            17409 non-null  object        \n",
      " 18  MG_USECODE         17409 non-null  int64         \n",
      " 19  MS_PURPO           17409 non-null  int64         \n",
      " 20  REF1               17407 non-null  object        \n",
      " 21  REF2               0 non-null      float64       \n",
      " 22  REF3               0 non-null      float64       \n",
      " 23  REF4               0 non-null      float64       \n",
      " 24  REF5               0 non-null      float64       \n",
      " 25  AIRLINE_PREFIX     17409 non-null  object        \n",
      "dtypes: datetime64[ns](1), float64(6), int64(7), object(12)\n",
      "memory usage: 3.6+ MB\n"
     ]
    }
   ],
   "source": [
    "aoms_2023.info()"
   ]
  },
  {
   "cell_type": "code",
   "execution_count": 13,
   "metadata": {},
   "outputs": [
    {
     "data": {
      "text/plain": [
       "MS_CAUSE\n",
       "0     13773\n",
       "20        1\n",
       "30        6\n",
       "81        1\n",
       "AD        6\n",
       "      ...  \n",
       "WR        1\n",
       "WV       24\n",
       "WW        2\n",
       "WX       30\n",
       "ZZ        1\n",
       "Length: 63, dtype: int64"
      ]
     },
     "execution_count": 13,
     "metadata": {},
     "output_type": "execute_result"
    }
   ],
   "source": [
    "# aoms_2023.groupby(['MS_CAUSE']).size().sort_values(ascending=False)\n",
    "aoms_2023.groupby(['MS_CAUSE']).size()"
   ]
  },
  {
   "cell_type": "code",
   "execution_count": 16,
   "metadata": {},
   "outputs": [
    {
     "data": {
      "text/plain": [
       "MS_CAUSE\n",
       "WC     7\n",
       "WD    17\n",
       "WN     3\n",
       "WV    24\n",
       "WW     2\n",
       "dtype: int64"
      ]
     },
     "execution_count": 16,
     "metadata": {},
     "output_type": "execute_result"
    }
   ],
   "source": [
    "con_ect = [60, \"WX\", \"NW\", \"AW\", \"WG\", \"WI\", \"WR\"]\n",
    "con_weather = [61, \"WY\", \"WV\", \"WC\", 62,\"WS\", \"WN\", 63, 64,\"WU\", \"WH\", 65,\"WW\", \"WD\", 66, 67, 68, 69,]\n",
    "aoms_2023[aoms_2023['MS_CAUSE'].isin(con_weather) == True].groupby('MS_CAUSE').size()"
   ]
  },
  {
   "cell_type": "code",
   "execution_count": 17,
   "metadata": {},
   "outputs": [
    {
     "data": {
      "text/plain": [
       "MS_CAUSE\n",
       "AW      2\n",
       "NW    120\n",
       "WG      5\n",
       "WI      6\n",
       "WR      1\n",
       "WX     30\n",
       "dtype: int64"
      ]
     },
     "execution_count": 17,
     "metadata": {},
     "output_type": "execute_result"
    }
   ],
   "source": [
    "aoms_2023[aoms_2023['MS_CAUSE'].isin(con_ect) == True].groupby('MS_CAUSE').size()"
   ]
  },
  {
   "cell_type": "code",
   "execution_count": 19,
   "metadata": {},
   "outputs": [
    {
     "data": {
      "text/plain": [
       "MS_DELAY\n",
       "0    14546\n",
       "1     2863\n",
       "dtype: int64"
      ]
     },
     "execution_count": 19,
     "metadata": {},
     "output_type": "execute_result"
    }
   ],
   "source": [
    "aoms_2023.groupby('MS_DELAY').size()"
   ]
  },
  {
   "cell_type": "code",
   "execution_count": null,
   "metadata": {},
   "outputs": [],
   "source": []
  }
 ],
 "metadata": {
  "kernelspec": {
   "display_name": "env_tan",
   "language": "python",
   "name": "python3"
  },
  "language_info": {
   "codemirror_mode": {
    "name": "ipython",
    "version": 3
   },
   "file_extension": ".py",
   "mimetype": "text/x-python",
   "name": "python",
   "nbconvert_exporter": "python",
   "pygments_lexer": "ipython3",
   "version": "3.10.12"
  }
 },
 "nbformat": 4,
 "nbformat_minor": 2
}
