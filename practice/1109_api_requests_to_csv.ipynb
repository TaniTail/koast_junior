{
 "cells": [
  {
   "cell_type": "markdown",
   "metadata": {},
   "source": [
    "# 기상청 api허브 요청"
   ]
  },
  {
   "cell_type": "code",
   "execution_count": null,
   "metadata": {},
   "outputs": [],
   "source": [
    "import os\n",
    "import requests  \n",
    "import pandas as pd\n",
    "\n",
    "def download_file(file_url, save_path):\n",
    "    with open(save_path, 'wb') as f: \n",
    "        response = requests.get(file_url) \n",
    "        f.write(response.content) \n",
    "\n",
    "\n",
    "url = 'https://apihub.kma.go.kr/api/typ01/url/amos.php?tm=202311011200&dtm=60&stn=&help=1&authKey=WgOJ7taBSpSDie7WgZqUJQ'\n",
    "save_file_path = 'api_test.csv'\n",
    "\n",
    "\n",
    "download_file(url, save_file_path)"
   ]
  },
  {
   "cell_type": "code",
   "execution_count": null,
   "metadata": {},
   "outputs": [],
   "source": [
    "\n",
    "for 일 in range(1,32):\n",
    "    월 = '10'\n",
    "    for i in range(25):\n",
    "        일 = f\"{일:02}\"\n",
    "        day_str = f\"{i:02}\"  # 시간형식 00~24 까지! \n",
    "        url = f'https://apihub.kma.go.kr/api/typ01/url/amos.php?tm=2023{월}{일}{day_str}00&dtm=60&help=0&authKey=WgOJ7taBSpSDie7WgZqUJQ'\n",
    "        save_file_path = f'./amos_api/{월}{일}{day_str}.txt'\n",
    "        \n",
    "        download_file(url, save_file_path)\n",
    "        \n",
    "        \n",
    "        \n",
    "for 일 in range(1,7):\n",
    "    월 = '11'\n",
    "    일 = f\"{일:02}\"\n",
    "    for i in range(25):\n",
    "        일 = f\"{일:02}\"\n",
    "        day_str = f\"{i:02}\"  # 시간형식 00~24 까지! \n",
    "        url = f'https://apihub.kma.go.kr/api/typ01/url/amos.php?tm=2023{월}{일}{day_str}00&dtm=60&help=0&authKey=WgOJ7taBSpSDie7WgZqUJQ'\n",
    "        save_file_path = f'./amos_api/{월}{일}{day_str}.txt'\n",
    "        \n",
    "        download_file(url, save_file_path)"
   ]
  },
  {
   "cell_type": "code",
   "execution_count": null,
   "metadata": {},
   "outputs": [],
   "source": [
    "\n",
    "# 입력 폴더 경로와 출력 파일 경로 설정\n",
    "input_folder = './amos_api/231001_1107/'  \n",
    "output_file_path = './amos_api/231001_1107/combined_2.txt'\n",
    "\n",
    "# 한번에 호출이 되는 만큼 계속 생겨난 결과 파일들을 쓰기 모드로 열어서 합치기!\n",
    "with open(output_file_path, 'w', encoding='euc-kr') as output_file:\n",
    "    \n",
    "    for filename in os.listdir(input_folder):\n",
    "        if filename.endswith('.txt'):\n",
    "            input_file_path = os.path.join(input_folder, filename)\n",
    "            \n",
    "            with open(input_file_path, 'r', encoding='euc-kr') as input_file:\n",
    "                lines = input_file.readlines()\n",
    "                \n",
    "                \n",
    "                if len(lines) == 0:\n",
    "                    continue\n",
    "                \n",
    "                # 첫 줄과 마지막 줄에 '#START7777'와 '#7777END'가 있으면 제외\n",
    "                if lines[0].strip() == '#START7777' and lines[-1].strip() == '#7777END':\n",
    "                    # 처음의 열 정보만 추가\n",
    "                    output_file.write(lines[1]) \n",
    "                \n",
    "                \n",
    "                output_file.writelines(lines)\n",
    "\n",
    "print(f'텍스트 병합 완료><! : {output_file_path}')\n",
    "\n"
   ]
  },
  {
   "cell_type": "code",
   "execution_count": null,
   "metadata": {},
   "outputs": [],
   "source": [
    "\n",
    "df = pd.read_csv('output.csv', encoding='euc-kr')"
   ]
  },
  {
   "cell_type": "code",
   "execution_count": null,
   "metadata": {},
   "outputs": [],
   "source": [
    "import csv\n",
    "\n",
    "input_file_path = './amos_api/231001_1107/combined.txt' \n",
    "output_file_path = '231001_1107.csv' \n",
    "\n",
    "\n",
    "with open(output_file_path, mode='w', encoding='euc-kr', newline='') as output_file:\n",
    "    csv_writer = csv.writer(output_file, delimiter=',')\n",
    "\n",
    "    \n",
    "    with open(input_file_path, mode='r', encoding='euc-kr') as input_file:\n",
    "        lines = input_file.readlines()\n",
    "\n",
    "        \n",
    "        csv_writer.writerow([header.strip() for header in lines[0].split()])\n",
    "\n",
    "\n",
    "        for line in lines[1:]:\n",
    "            row = [value.strip() for value in line.split()]\n",
    "            csv_writer.writerow(row)\n",
    "\n",
    "print(f'CSV 파일 생성 완료! : {output_file_path}')\n"
   ]
  }
 ],
 "metadata": {
  "kernelspec": {
   "display_name": "env_tan",
   "language": "python",
   "name": "python3"
  },
  "language_info": {
   "codemirror_mode": {
    "name": "ipython",
    "version": 3
   },
   "file_extension": ".py",
   "mimetype": "text/x-python",
   "name": "python",
   "nbconvert_exporter": "python",
   "pygments_lexer": "ipython3",
   "version": "3.10.12"
  }
 },
 "nbformat": 4,
 "nbformat_minor": 2
}
