{
 "cells": [
  {
   "cell_type": "code",
   "execution_count": 1,
   "metadata": {},
   "outputs": [
    {
     "name": "stdout",
     "output_type": "stream",
     "text": [
      "       Grid_ID  Latitude  Longitude  Ship_Count  Density  어선  여객선  화물선  유조선  \\\n",
      "0  GR3_G3B32_D    35.475    129.425         147    50.48  76    0    2   23   \n",
      "1  GR3_G3B33_P    35.075    129.025         106    46.12  44    1   10   11   \n",
      "2  GR3_G3B33_L    35.125    129.075          99   100.00   5    0   18   42   \n",
      "3  GR3_F4H23_E    34.725    127.725          95    32.83  45    2    4    3   \n",
      "4  GR3_G3E12_S    34.825    128.425          86    11.93  64    5    1    0   \n",
      "\n",
      "   예인선  수상레저기구  기타선  \n",
      "0    0       1   45  \n",
      "1   14       2   24  \n",
      "2   14       0   20  \n",
      "3    1       0   40  \n",
      "4    0       1   15  \n"
     ]
    }
   ],
   "source": [
    "import pandas as pd\n",
    "\n",
    "# 원본 CSV 파일 로드\n",
    "file_path = \"sden_202502200100_grid3.csv\"\n",
    "df = pd.read_csv(file_path, encoding=\"utf-8\")\n",
    "\n",
    "# 컬럼명 변경 및 필요한 컬럼 선택\n",
    "df.columns = [\"Grid_ID\", \"LatLon\", \"Ship_Count\", \"Density\", \"어선\", \"여객선\", \"화물선\", \"유조선\", \n",
    "              \"예인선\", \"수상레저기구\", \"기타선\", \"1t미만\", \"1t_2t\", \"2t_3t\", \"3t_5t\", \n",
    "              \"5t_10t\", \"10t_50t\", \"50t_100t\", \"100t_500t\", \"500t이상\", \"미상\"]\n",
    "\n",
    "# 위경도 분리\n",
    "df[[\"Latitude\", \"Longitude\"]] = df[\"LatLon\"].str.replace(\" \", \"\").str.split(\",\", expand=True).astype(float)\n",
    "\n",
    "# 필요한 컬럼만 선택하여 정리\n",
    "df = df[[\"Grid_ID\", \"Latitude\", \"Longitude\", \"Ship_Count\", \"Density\", \"어선\", \"여객선\", \"화물선\", \n",
    "         \"유조선\", \"예인선\", \"수상레저기구\", \"기타선\"]]\n",
    "\n",
    "# 정제된 데이터 저장 (선택사항)\n",
    "df.to_csv(\"cleaned_sden_202502200100_grid3.csv\", index=False, encoding=\"utf-8\")\n",
    "\n",
    "# 확인\n",
    "print(df.head())\n"
   ]
  }
 ],
 "metadata": {
  "kernelspec": {
   "display_name": "marideb",
   "language": "python",
   "name": "python3"
  },
  "language_info": {
   "codemirror_mode": {
    "name": "ipython",
    "version": 3
   },
   "file_extension": ".py",
   "mimetype": "text/x-python",
   "name": "python",
   "nbconvert_exporter": "python",
   "pygments_lexer": "ipython3",
   "version": "3.12.0"
  }
 },
 "nbformat": 4,
 "nbformat_minor": 2
}
